{
  "nbformat": 4,
  "nbformat_minor": 0,
  "metadata": {
    "colab": {
      "provenance": [],
      "authorship_tag": "ABX9TyOLiIJOeiArEorJH1LF8Jun",
      "include_colab_link": true
    },
    "kernelspec": {
      "name": "python3",
      "display_name": "Python 3"
    },
    "language_info": {
      "name": "python"
    }
  },
  "cells": [
    {
      "cell_type": "markdown",
      "metadata": {
        "id": "view-in-github",
        "colab_type": "text"
      },
      "source": [
        "<a href=\"https://colab.research.google.com/github/Yaswanthyarra/LGMVIP--DataScience/blob/main/LSTMStockMarketPrediction.ipynb\" target=\"_parent\"><img src=\"https://colab.research.google.com/assets/colab-badge.svg\" alt=\"Open In Colab\"/></a>"
      ]
    },
    {
      "cell_type": "code",
      "execution_count": null,
      "metadata": {
        "id": "BcCX_h6HNRB8"
      },
      "outputs": [],
      "source": [
        "import pandas as pd\n",
        "import numpy as np\n",
        "import math\n",
        "from tensorflow import keras\n",
        "from tensorflow.keras import layers\n",
        "import matplotlib.pyplot as plt\n",
        "from tensorflow.keras.layers import Dense\n",
        "from tensorflow.keras.layers import LSTM\n",
        "from sklearn.metrics import mean_squared_error\n",
        "from sklearn.preprocessing import MinMaxScaler\n",
        "from tensorflow.keras.models import Sequential\n",
        "\n",
        "\n",
        "\n"
      ]
    },
    {
      "cell_type": "code",
      "source": [
        "df = pd.read_csv('https://raw.githubusercontent.com/mwitiderrick/stockprice/master/NSE-TATAGLOBAL.csv')\n",
        "\n",
        "df['Date'] = pd.to_datetime(df['Date'])\n",
        "\n",
        "#Sorting the date values in ascending order (past to future) so that we can make predictions based on the time series\n",
        "df = df.sort_values('Date')\n",
        "\n",
        "df.head(10)\n"
      ],
      "metadata": {
        "colab": {
          "base_uri": "https://localhost:8080/",
          "height": 363
        },
        "id": "F4Z0izGZWLiO",
        "outputId": "f10e1711-816d-431e-a9f3-2b06c7075bd5"
      },
      "execution_count": null,
      "outputs": [
        {
          "output_type": "execute_result",
          "data": {
            "text/plain": [
              "           Date   Open    High     Low    Last   Close  Total Trade Quantity  \\\n",
              "2034 2010-07-21  122.1  123.00  121.05  121.10  121.55                658666   \n",
              "2033 2010-07-22  120.3  122.00  120.25  120.75  120.90                293312   \n",
              "2032 2010-07-23  121.8  121.95  120.25  120.35  120.65                281312   \n",
              "2031 2010-07-26  120.1  121.00  117.10  117.10  117.60                658440   \n",
              "2030 2010-07-27  117.6  119.50  112.00  118.80  118.65                586100   \n",
              "2029 2010-07-28  118.0  120.50  117.20  118.15  118.25                835593   \n",
              "2028 2010-07-29  112.5  121.70  112.50  117.50  116.60               2359134   \n",
              "2027 2010-07-30  116.5  118.00  114.60  115.85  116.05               2656191   \n",
              "2026 2010-08-02  117.3  118.50  116.60  118.10  117.30                663593   \n",
              "2025 2010-08-03  118.3  119.95  117.90  118.65  118.30                611234   \n",
              "\n",
              "      Turnover (Lacs)  \n",
              "2034           803.56  \n",
              "2033           355.17  \n",
              "2032           340.31  \n",
              "2031           780.01  \n",
              "2030           694.98  \n",
              "2029           994.01  \n",
              "2028          2791.03  \n",
              "2027          3112.68  \n",
              "2026           779.85  \n",
              "2025           726.78  "
            ],
            "text/html": [
              "\n",
              "  <div id=\"df-32394b48-fd28-4a24-aa57-1f0567f29a75\">\n",
              "    <div class=\"colab-df-container\">\n",
              "      <div>\n",
              "<style scoped>\n",
              "    .dataframe tbody tr th:only-of-type {\n",
              "        vertical-align: middle;\n",
              "    }\n",
              "\n",
              "    .dataframe tbody tr th {\n",
              "        vertical-align: top;\n",
              "    }\n",
              "\n",
              "    .dataframe thead th {\n",
              "        text-align: right;\n",
              "    }\n",
              "</style>\n",
              "<table border=\"1\" class=\"dataframe\">\n",
              "  <thead>\n",
              "    <tr style=\"text-align: right;\">\n",
              "      <th></th>\n",
              "      <th>Date</th>\n",
              "      <th>Open</th>\n",
              "      <th>High</th>\n",
              "      <th>Low</th>\n",
              "      <th>Last</th>\n",
              "      <th>Close</th>\n",
              "      <th>Total Trade Quantity</th>\n",
              "      <th>Turnover (Lacs)</th>\n",
              "    </tr>\n",
              "  </thead>\n",
              "  <tbody>\n",
              "    <tr>\n",
              "      <th>2034</th>\n",
              "      <td>2010-07-21</td>\n",
              "      <td>122.1</td>\n",
              "      <td>123.00</td>\n",
              "      <td>121.05</td>\n",
              "      <td>121.10</td>\n",
              "      <td>121.55</td>\n",
              "      <td>658666</td>\n",
              "      <td>803.56</td>\n",
              "    </tr>\n",
              "    <tr>\n",
              "      <th>2033</th>\n",
              "      <td>2010-07-22</td>\n",
              "      <td>120.3</td>\n",
              "      <td>122.00</td>\n",
              "      <td>120.25</td>\n",
              "      <td>120.75</td>\n",
              "      <td>120.90</td>\n",
              "      <td>293312</td>\n",
              "      <td>355.17</td>\n",
              "    </tr>\n",
              "    <tr>\n",
              "      <th>2032</th>\n",
              "      <td>2010-07-23</td>\n",
              "      <td>121.8</td>\n",
              "      <td>121.95</td>\n",
              "      <td>120.25</td>\n",
              "      <td>120.35</td>\n",
              "      <td>120.65</td>\n",
              "      <td>281312</td>\n",
              "      <td>340.31</td>\n",
              "    </tr>\n",
              "    <tr>\n",
              "      <th>2031</th>\n",
              "      <td>2010-07-26</td>\n",
              "      <td>120.1</td>\n",
              "      <td>121.00</td>\n",
              "      <td>117.10</td>\n",
              "      <td>117.10</td>\n",
              "      <td>117.60</td>\n",
              "      <td>658440</td>\n",
              "      <td>780.01</td>\n",
              "    </tr>\n",
              "    <tr>\n",
              "      <th>2030</th>\n",
              "      <td>2010-07-27</td>\n",
              "      <td>117.6</td>\n",
              "      <td>119.50</td>\n",
              "      <td>112.00</td>\n",
              "      <td>118.80</td>\n",
              "      <td>118.65</td>\n",
              "      <td>586100</td>\n",
              "      <td>694.98</td>\n",
              "    </tr>\n",
              "    <tr>\n",
              "      <th>2029</th>\n",
              "      <td>2010-07-28</td>\n",
              "      <td>118.0</td>\n",
              "      <td>120.50</td>\n",
              "      <td>117.20</td>\n",
              "      <td>118.15</td>\n",
              "      <td>118.25</td>\n",
              "      <td>835593</td>\n",
              "      <td>994.01</td>\n",
              "    </tr>\n",
              "    <tr>\n",
              "      <th>2028</th>\n",
              "      <td>2010-07-29</td>\n",
              "      <td>112.5</td>\n",
              "      <td>121.70</td>\n",
              "      <td>112.50</td>\n",
              "      <td>117.50</td>\n",
              "      <td>116.60</td>\n",
              "      <td>2359134</td>\n",
              "      <td>2791.03</td>\n",
              "    </tr>\n",
              "    <tr>\n",
              "      <th>2027</th>\n",
              "      <td>2010-07-30</td>\n",
              "      <td>116.5</td>\n",
              "      <td>118.00</td>\n",
              "      <td>114.60</td>\n",
              "      <td>115.85</td>\n",
              "      <td>116.05</td>\n",
              "      <td>2656191</td>\n",
              "      <td>3112.68</td>\n",
              "    </tr>\n",
              "    <tr>\n",
              "      <th>2026</th>\n",
              "      <td>2010-08-02</td>\n",
              "      <td>117.3</td>\n",
              "      <td>118.50</td>\n",
              "      <td>116.60</td>\n",
              "      <td>118.10</td>\n",
              "      <td>117.30</td>\n",
              "      <td>663593</td>\n",
              "      <td>779.85</td>\n",
              "    </tr>\n",
              "    <tr>\n",
              "      <th>2025</th>\n",
              "      <td>2010-08-03</td>\n",
              "      <td>118.3</td>\n",
              "      <td>119.95</td>\n",
              "      <td>117.90</td>\n",
              "      <td>118.65</td>\n",
              "      <td>118.30</td>\n",
              "      <td>611234</td>\n",
              "      <td>726.78</td>\n",
              "    </tr>\n",
              "  </tbody>\n",
              "</table>\n",
              "</div>\n",
              "      <button class=\"colab-df-convert\" onclick=\"convertToInteractive('df-32394b48-fd28-4a24-aa57-1f0567f29a75')\"\n",
              "              title=\"Convert this dataframe to an interactive table.\"\n",
              "              style=\"display:none;\">\n",
              "        \n",
              "  <svg xmlns=\"http://www.w3.org/2000/svg\" height=\"24px\"viewBox=\"0 0 24 24\"\n",
              "       width=\"24px\">\n",
              "    <path d=\"M0 0h24v24H0V0z\" fill=\"none\"/>\n",
              "    <path d=\"M18.56 5.44l.94 2.06.94-2.06 2.06-.94-2.06-.94-.94-2.06-.94 2.06-2.06.94zm-11 1L8.5 8.5l.94-2.06 2.06-.94-2.06-.94L8.5 2.5l-.94 2.06-2.06.94zm10 10l.94 2.06.94-2.06 2.06-.94-2.06-.94-.94-2.06-.94 2.06-2.06.94z\"/><path d=\"M17.41 7.96l-1.37-1.37c-.4-.4-.92-.59-1.43-.59-.52 0-1.04.2-1.43.59L10.3 9.45l-7.72 7.72c-.78.78-.78 2.05 0 2.83L4 21.41c.39.39.9.59 1.41.59.51 0 1.02-.2 1.41-.59l7.78-7.78 2.81-2.81c.8-.78.8-2.07 0-2.86zM5.41 20L4 18.59l7.72-7.72 1.47 1.35L5.41 20z\"/>\n",
              "  </svg>\n",
              "      </button>\n",
              "      \n",
              "  <style>\n",
              "    .colab-df-container {\n",
              "      display:flex;\n",
              "      flex-wrap:wrap;\n",
              "      gap: 12px;\n",
              "    }\n",
              "\n",
              "    .colab-df-convert {\n",
              "      background-color: #E8F0FE;\n",
              "      border: none;\n",
              "      border-radius: 50%;\n",
              "      cursor: pointer;\n",
              "      display: none;\n",
              "      fill: #1967D2;\n",
              "      height: 32px;\n",
              "      padding: 0 0 0 0;\n",
              "      width: 32px;\n",
              "    }\n",
              "\n",
              "    .colab-df-convert:hover {\n",
              "      background-color: #E2EBFA;\n",
              "      box-shadow: 0px 1px 2px rgba(60, 64, 67, 0.3), 0px 1px 3px 1px rgba(60, 64, 67, 0.15);\n",
              "      fill: #174EA6;\n",
              "    }\n",
              "\n",
              "    [theme=dark] .colab-df-convert {\n",
              "      background-color: #3B4455;\n",
              "      fill: #D2E3FC;\n",
              "    }\n",
              "\n",
              "    [theme=dark] .colab-df-convert:hover {\n",
              "      background-color: #434B5C;\n",
              "      box-shadow: 0px 1px 3px 1px rgba(0, 0, 0, 0.15);\n",
              "      filter: drop-shadow(0px 1px 2px rgba(0, 0, 0, 0.3));\n",
              "      fill: #FFFFFF;\n",
              "    }\n",
              "  </style>\n",
              "\n",
              "      <script>\n",
              "        const buttonEl =\n",
              "          document.querySelector('#df-32394b48-fd28-4a24-aa57-1f0567f29a75 button.colab-df-convert');\n",
              "        buttonEl.style.display =\n",
              "          google.colab.kernel.accessAllowed ? 'block' : 'none';\n",
              "\n",
              "        async function convertToInteractive(key) {\n",
              "          const element = document.querySelector('#df-32394b48-fd28-4a24-aa57-1f0567f29a75');\n",
              "          const dataTable =\n",
              "            await google.colab.kernel.invokeFunction('convertToInteractive',\n",
              "                                                     [key], {});\n",
              "          if (!dataTable) return;\n",
              "\n",
              "          const docLinkHtml = 'Like what you see? Visit the ' +\n",
              "            '<a target=\"_blank\" href=https://colab.research.google.com/notebooks/data_table.ipynb>data table notebook</a>'\n",
              "            + ' to learn more about interactive tables.';\n",
              "          element.innerHTML = '';\n",
              "          dataTable['output_type'] = 'display_data';\n",
              "          await google.colab.output.renderOutput(dataTable, element);\n",
              "          const docLink = document.createElement('div');\n",
              "          docLink.innerHTML = docLinkHtml;\n",
              "          element.appendChild(docLink);\n",
              "        }\n",
              "      </script>\n",
              "    </div>\n",
              "  </div>\n",
              "  "
            ]
          },
          "metadata": {},
          "execution_count": 10
        }
      ]
    },
    {
      "cell_type": "code",
      "source": [
        "plt.figure(figsize = (9,6))\n",
        "plt.title('Tata Stocks Opening Price')\n",
        "\n",
        "plt.plot(df['Open'],'b')\n",
        "plt.xlabel('Date',fontsize=10)\n",
        "plt.ylabel('Open',fontsize=10)\n"
      ],
      "metadata": {
        "colab": {
          "base_uri": "https://localhost:8080/",
          "height": 421
        },
        "id": "RYmoHB_lWZvM",
        "outputId": "377c0708-4603-45d0-8c9f-9082720088bc"
      },
      "execution_count": null,
      "outputs": [
        {
          "output_type": "execute_result",
          "data": {
            "text/plain": [
              "Text(0, 0.5, 'Open')"
            ]
          },
          "metadata": {},
          "execution_count": 19
        },
        {
          "output_type": "display_data",
          "data": {
            "text/plain": [
              "<Figure size 648x432 with 1 Axes>"
            ],
            "image/png": "[encoded data removed]"
          },
          "metadata": {
            "needs_background": "light"
          }
        }
      ]
    },
    {
      "cell_type": "code",
      "source": [
        "#Scaling the data to value between 0-1 and reshaping the np.array to 2D array with 1 column\n",
        "data_open = df.reset_index()['Open']\n",
        "\n",
        "scaler = MinMaxScaler(feature_range = (0, 1))\n",
        "data_open = scaler.fit_transform(np.array(data_open).reshape(-1, 1))\n",
        "data_open.head(10)"
      ],
      "metadata": {
        "colab": {
          "base_uri": "https://localhost:8080/"
        },
        "id": "rYdbKjBTYtoe",
        "outputId": "721c15cb-c2f2-4f83-d9b4-7586e6d742f3"
      },
      "execution_count": null,
      "outputs": [
        {
          "output_type": "execute_result",
          "data": {
            "text/plain": [
              "array([[0.16626115],\n",
              "       [0.15896188],\n",
              "       [0.16504461],\n",
              "       ...,\n",
              "       [0.64436334],\n",
              "       [0.62226277],\n",
              "       [0.6202352 ]])"
            ]
          },
          "metadata": {},
          "execution_count": 25
        }
      ]
    },
    {
      "cell_type": "code",
      "source": [
        "train_s = int(len(data_open)*0.70)\n",
        "test_s = len(data_open) - train_s\n",
        "train, test = data_open[0 : train_s, :1], data_open[train_s : len(data_open), :1]"
      ],
      "metadata": {
        "id": "4qkwF-6gaDC0"
      },
      "execution_count": null,
      "outputs": []
    },
    {
      "cell_type": "code",
      "source": [
        "def create_train_test(ds, step=1):\n",
        "    dX, dY = [], []\n",
        "    for i in range(len(ds)-step-1):\n",
        "        dY.append(ds[i+step,0])\n",
        "        dX.append(ds[i:(i+step),0])\n",
        "        \n",
        "    return np.array(dX), np.array(dY)\n",
        "step=100 \n",
        "X_train, y_train = create_train_test(train, step)\n",
        "X_test, y_test = create_train_test(test, step)\n",
        "print(X_train.shape, y_train.shape,X_test.shape, y_test.shape)"
      ],
      "metadata": {
        "colab": {
          "base_uri": "https://localhost:8080/"
        },
        "id": "jgY7EJUpa-Jh",
        "outputId": "579557c6-fb5e-44ef-cf0a-6b3e46fd3189"
      },
      "execution_count": null,
      "outputs": [
        {
          "output_type": "stream",
          "name": "stdout",
          "text": [
            "(1323, 100) (1323,) (510, 100) (510,)\n"
          ]
        }
      ]
    },
    {
      "cell_type": "code",
      "source": [
        "#The purpose of this reshaping is to convert the 2D array into a 3D array that is compatible with the input shape expected by certain types of machine learning models.\n",
        "X_train = X_train.reshape(X_train.shape[0], X_train.shape[1], 1)\n",
        "X_test = X_test.reshape(X_test.shape[0], X_test.shape[1], 1)\n"
      ],
      "metadata": {
        "id": "vQJaJpXVbG7x"
      },
      "execution_count": null,
      "outputs": []
    },
    {
      "cell_type": "code",
      "source": [
        "#Constructing the layers of the Neural Network using LSTM layers\n",
        "model_lstm = Sequential()\n",
        "model_lstm.add(LSTM(60, return_sequences=True,input_shape=(100,1)))\n",
        "model_lstm.add(LSTM(60,return_sequences=True))\n",
        "model_lstm.add(LSTM(60))\n",
        "model_lstm.add(Dense(1))\n",
        "model_lstm.compile(loss='mean_absolute_error',optimizer='adam')\n",
        "model_lstm.summary()"
      ],
      "metadata": {
        "colab": {
          "base_uri": "https://localhost:8080/"
        },
        "id": "WwfoHg9KdRem",
        "outputId": "c0a7c445-2cef-4826-de37-c50e53799355"
      },
      "execution_count": null,
      "outputs": [
        {
          "output_type": "stream",
          "name": "stdout",
          "text": [
            "Model: \"sequential_3\"\n",
            "_________________________________________________________________\n",
            " Layer (type)                Output Shape              Param #   \n",
            "=================================================================\n",
            " lstm_9 (LSTM)               (None, 100, 60)           14880     \n",
            "                                                                 \n",
            " lstm_10 (LSTM)              (None, 100, 60)           29040     \n",
            "                                                                 \n",
            " lstm_11 (LSTM)              (None, 60)                29040     \n",
            "                                                                 \n",
            " dense_3 (Dense)             (None, 1)                 61        \n",
            "                                                                 \n",
            "=================================================================\n",
            "Total params: 73,021\n",
            "Trainable params: 73,021\n",
            "Non-trainable params: 0\n",
            "_________________________________________________________________\n"
          ]
        }
      ]
    },
    {
      "cell_type": "code",
      "source": [
        "#training the model\n",
        "history = model_lstm.fit(X_train, y_train, validation_split=0.1, epochs=77, batch_size=64, verbose=1, shuffle=True)"
      ],
      "metadata": {
        "colab": {
          "base_uri": "https://localhost:8080/"
        },
        "id": "7SOkhWgOern9",
        "outputId": "0c0930a5-581e-45f3-8321-304686b09981"
      },
      "execution_count": null,
      "outputs": [
        {
          "output_type": "stream",
          "name": "stdout",
          "text": [
            "Epoch 1/77\n",
            "19/19 [==============================] - 15s 328ms/step - loss: 0.0629 - val_loss: 0.0298\n",
            "Epoch 2/77\n",
            "19/19 [==============================] - 5s 241ms/step - loss: 0.0258 - val_loss: 0.0293\n",
            "Epoch 3/77\n",
            "19/19 [==============================] - 6s 288ms/step - loss: 0.0227 - val_loss: 0.0256\n",
            "Epoch 4/77\n",
            "19/19 [==============================] - 4s 231ms/step - loss: 0.0218 - val_loss: 0.0234\n",
            "Epoch 5/77\n",
            "19/19 [==============================] - 6s 294ms/step - loss: 0.0209 - val_loss: 0.0237\n",
            "Epoch 6/77\n",
            "19/19 [==============================] - 4s 225ms/step - loss: 0.0198 - val_loss: 0.0220\n",
            "Epoch 7/77\n",
            "19/19 [==============================] - 4s 234ms/step - loss: 0.0194 - val_loss: 0.0219\n",
            "Epoch 8/77\n",
            "19/19 [==============================] - 6s 296ms/step - loss: 0.0196 - val_loss: 0.0203\n",
            "Epoch 9/77\n",
            "19/19 [==============================] - 4s 226ms/step - loss: 0.0184 - val_loss: 0.0194\n",
            "Epoch 10/77\n",
            "19/19 [==============================] - 5s 240ms/step - loss: 0.0185 - val_loss: 0.0182\n",
            "Epoch 11/77\n",
            "19/19 [==============================] - 6s 292ms/step - loss: 0.0174 - val_loss: 0.0182\n",
            "Epoch 12/77\n",
            "19/19 [==============================] - 4s 229ms/step - loss: 0.0178 - val_loss: 0.0162\n",
            "Epoch 13/77\n",
            "19/19 [==============================] - 5s 292ms/step - loss: 0.0163 - val_loss: 0.0160\n",
            "Epoch 14/77\n",
            "19/19 [==============================] - 5s 248ms/step - loss: 0.0165 - val_loss: 0.0164\n",
            "Epoch 15/77\n",
            "19/19 [==============================] - 5s 247ms/step - loss: 0.0166 - val_loss: 0.0145\n",
            "Epoch 16/77\n",
            "19/19 [==============================] - 6s 304ms/step - loss: 0.0159 - val_loss: 0.0160\n",
            "Epoch 17/77\n",
            "19/19 [==============================] - 4s 238ms/step - loss: 0.0163 - val_loss: 0.0155\n",
            "Epoch 18/77\n",
            "19/19 [==============================] - 5s 285ms/step - loss: 0.0153 - val_loss: 0.0133\n",
            "Epoch 19/77\n",
            "19/19 [==============================] - 5s 254ms/step - loss: 0.0146 - val_loss: 0.0146\n",
            "Epoch 20/77\n",
            "19/19 [==============================] - 4s 234ms/step - loss: 0.0149 - val_loss: 0.0129\n",
            "Epoch 21/77\n",
            "19/19 [==============================] - 6s 297ms/step - loss: 0.0150 - val_loss: 0.0146\n",
            "Epoch 22/77\n",
            "19/19 [==============================] - 5s 247ms/step - loss: 0.0152 - val_loss: 0.0138\n",
            "Epoch 23/77\n",
            "19/19 [==============================] - 5s 258ms/step - loss: 0.0142 - val_loss: 0.0141\n",
            "Epoch 24/77\n",
            "19/19 [==============================] - 5s 274ms/step - loss: 0.0150 - val_loss: 0.0127\n",
            "Epoch 25/77\n",
            "19/19 [==============================] - 5s 241ms/step - loss: 0.0132 - val_loss: 0.0111\n",
            "Epoch 26/77\n",
            "19/19 [==============================] - 6s 324ms/step - loss: 0.0135 - val_loss: 0.0110\n",
            "Epoch 27/77\n",
            "19/19 [==============================] - 5s 252ms/step - loss: 0.0132 - val_loss: 0.0119\n",
            "Epoch 28/77\n",
            "19/19 [==============================] - 5s 243ms/step - loss: 0.0124 - val_loss: 0.0108\n",
            "Epoch 29/77\n",
            "19/19 [==============================] - 6s 292ms/step - loss: 0.0124 - val_loss: 0.0102\n",
            "Epoch 30/77\n",
            "19/19 [==============================] - 5s 248ms/step - loss: 0.0117 - val_loss: 0.0107\n",
            "Epoch 31/77\n",
            "19/19 [==============================] - 6s 305ms/step - loss: 0.0115 - val_loss: 0.0106\n",
            "Epoch 32/77\n",
            "19/19 [==============================] - 4s 232ms/step - loss: 0.0119 - val_loss: 0.0131\n",
            "Epoch 33/77\n",
            "19/19 [==============================] - 5s 240ms/step - loss: 0.0121 - val_loss: 0.0156\n",
            "Epoch 34/77\n",
            "19/19 [==============================] - 6s 315ms/step - loss: 0.0144 - val_loss: 0.0093\n",
            "Epoch 35/77\n",
            "19/19 [==============================] - 4s 235ms/step - loss: 0.0123 - val_loss: 0.0113\n",
            "Epoch 36/77\n",
            "19/19 [==============================] - 5s 281ms/step - loss: 0.0129 - val_loss: 0.0091\n",
            "Epoch 37/77\n",
            "19/19 [==============================] - 5s 250ms/step - loss: 0.0109 - val_loss: 0.0095\n",
            "Epoch 38/77\n",
            "19/19 [==============================] - 5s 244ms/step - loss: 0.0111 - val_loss: 0.0111\n",
            "Epoch 39/77\n",
            "19/19 [==============================] - 6s 306ms/step - loss: 0.0109 - val_loss: 0.0088\n",
            "Epoch 40/77\n",
            "19/19 [==============================] - 5s 252ms/step - loss: 0.0109 - val_loss: 0.0084\n",
            "Epoch 41/77\n",
            "19/19 [==============================] - 6s 294ms/step - loss: 0.0114 - val_loss: 0.0096\n",
            "Epoch 42/77\n",
            "19/19 [==============================] - 5s 253ms/step - loss: 0.0119 - val_loss: 0.0092\n",
            "Epoch 43/77\n",
            "19/19 [==============================] - 4s 236ms/step - loss: 0.0102 - val_loss: 0.0082\n",
            "Epoch 44/77\n",
            "19/19 [==============================] - 6s 304ms/step - loss: 0.0102 - val_loss: 0.0101\n",
            "Epoch 45/77\n",
            "19/19 [==============================] - 5s 247ms/step - loss: 0.0103 - val_loss: 0.0093\n",
            "Epoch 46/77\n",
            "19/19 [==============================] - 5s 260ms/step - loss: 0.0100 - val_loss: 0.0085\n",
            "Epoch 47/77\n",
            "19/19 [==============================] - 5s 274ms/step - loss: 0.0096 - val_loss: 0.0086\n",
            "Epoch 48/77\n",
            "19/19 [==============================] - 5s 242ms/step - loss: 0.0105 - val_loss: 0.0090\n",
            "Epoch 49/77\n",
            "19/19 [==============================] - 6s 318ms/step - loss: 0.0096 - val_loss: 0.0081\n",
            "Epoch 50/77\n",
            "19/19 [==============================] - 5s 240ms/step - loss: 0.0094 - val_loss: 0.0084\n",
            "Epoch 51/77\n",
            "19/19 [==============================] - 5s 245ms/step - loss: 0.0094 - val_loss: 0.0086\n",
            "Epoch 52/77\n",
            "19/19 [==============================] - 6s 311ms/step - loss: 0.0099 - val_loss: 0.0082\n",
            "Epoch 53/77\n",
            "19/19 [==============================] - 5s 254ms/step - loss: 0.0094 - val_loss: 0.0098\n",
            "Epoch 54/77\n",
            "19/19 [==============================] - 6s 304ms/step - loss: 0.0101 - val_loss: 0.0078\n",
            "Epoch 55/77\n",
            "19/19 [==============================] - 5s 247ms/step - loss: 0.0092 - val_loss: 0.0080\n",
            "Epoch 56/77\n",
            "19/19 [==============================] - 5s 253ms/step - loss: 0.0095 - val_loss: 0.0079\n",
            "Epoch 57/77\n",
            "19/19 [==============================] - 6s 295ms/step - loss: 0.0095 - val_loss: 0.0078\n",
            "Epoch 58/77\n",
            "19/19 [==============================] - 4s 237ms/step - loss: 0.0093 - val_loss: 0.0079\n",
            "Epoch 59/77\n",
            "19/19 [==============================] - 6s 308ms/step - loss: 0.0098 - val_loss: 0.0077\n",
            "Epoch 60/77\n",
            "19/19 [==============================] - 5s 252ms/step - loss: 0.0098 - val_loss: 0.0080\n",
            "Epoch 61/77\n",
            "19/19 [==============================] - 5s 238ms/step - loss: 0.0097 - val_loss: 0.0080\n",
            "Epoch 62/77\n",
            "19/19 [==============================] - 6s 305ms/step - loss: 0.0093 - val_loss: 0.0078\n",
            "Epoch 63/77\n",
            "19/19 [==============================] - 5s 253ms/step - loss: 0.0093 - val_loss: 0.0087\n",
            "Epoch 64/77\n",
            "19/19 [==============================] - 6s 328ms/step - loss: 0.0100 - val_loss: 0.0079\n",
            "Epoch 65/77\n",
            "19/19 [==============================] - 5s 239ms/step - loss: 0.0093 - val_loss: 0.0083\n",
            "Epoch 66/77\n",
            "19/19 [==============================] - 6s 326ms/step - loss: 0.0093 - val_loss: 0.0082\n",
            "Epoch 67/77\n",
            "19/19 [==============================] - 5s 278ms/step - loss: 0.0095 - val_loss: 0.0085\n",
            "Epoch 68/77\n",
            "19/19 [==============================] - 5s 241ms/step - loss: 0.0099 - val_loss: 0.0083\n",
            "Epoch 69/77\n",
            "19/19 [==============================] - 6s 305ms/step - loss: 0.0093 - val_loss: 0.0077\n",
            "Epoch 70/77\n",
            "19/19 [==============================] - 5s 243ms/step - loss: 0.0096 - val_loss: 0.0077\n",
            "Epoch 71/77\n",
            "19/19 [==============================] - 5s 278ms/step - loss: 0.0092 - val_loss: 0.0088\n",
            "Epoch 72/77\n",
            "19/19 [==============================] - 7s 355ms/step - loss: 0.0104 - val_loss: 0.0112\n",
            "Epoch 73/77\n",
            "19/19 [==============================] - 6s 328ms/step - loss: 0.0102 - val_loss: 0.0089\n",
            "Epoch 74/77\n",
            "19/19 [==============================] - 6s 310ms/step - loss: 0.0095 - val_loss: 0.0075\n",
            "Epoch 75/77\n",
            "19/19 [==============================] - 5s 262ms/step - loss: 0.0095 - val_loss: 0.0090\n",
            "Epoch 76/77\n",
            "19/19 [==============================] - 6s 315ms/step - loss: 0.0096 - val_loss: 0.0084\n",
            "Epoch 77/77\n",
            "19/19 [==============================] - 5s 261ms/step - loss: 0.0091 - val_loss: 0.0084\n"
          ]
        }
      ]
    },
    {
      "cell_type": "code",
      "source": [
        "history_df = pd.DataFrame(history.history)\n",
        "# Start the plot at epoch 5\n",
        "history_df.loc[5:, ['loss', 'val_loss']].plot()\n",
        "\n",
        "\n",
        "print((\"Best Validation Loss: {:0.4f}\")\\\n",
        "      .format(history_df['val_loss'].min()))"
      ],
      "metadata": {
        "colab": {
          "base_uri": "https://localhost:8080/",
          "height": 282
        },
        "id": "_bOjGxE_gujs",
        "outputId": "c053824f-4cff-41ae-e944-24dcf63cc421"
      },
      "execution_count": null,
      "outputs": [
        {
          "output_type": "stream",
          "name": "stdout",
          "text": [
            "Best Validation Loss: 0.0075\n"
          ]
        },
        {
          "output_type": "display_data",
          "data": {
            "text/plain": [
              "<Figure size 432x288 with 1 Axes>"
            ],
            "image/png": "[encoded data removed]"
          },
          "metadata": {
            "needs_background": "light"
          }
        }
      ]
    },
    {
      "cell_type": "code",
      "source": [
        "#Predicting the open price on both x_train and x_test \n",
        "train_predct = model_lstm.predict(X_train)\n",
        "test_predct = model_lstm.predict(X_test)\n",
        "#To transform the predicted scaled values back to their original scale\n",
        "train_predct = scaler.inverse_transform(train_predct)\n",
        "test_predct = scaler.inverse_transform(test_predct)\n",
        "# To determine the mean squared error\n",
        "print(math.sqrt(mean_squared_error(y_train, train_predct)))\n",
        "print(math.sqrt(mean_squared_error(y_test,test_predct)))\n",
        "\n",
        "scores = model_lstm.evaluate(X_test, y_test, verbose=0)\n",
        "\n",
        "# Extract the MAE from the scores\n",
        "\n",
        "\n",
        "print(\"MAE:\", scores)"
      ],
      "metadata": {
        "colab": {
          "base_uri": "https://localhost:8080/"
        },
        "id": "EwsFDfpWhedO",
        "outputId": "28185041-7bae-4a83-e224-e8652f42f25c"
      },
      "execution_count": null,
      "outputs": [
        {
          "output_type": "stream",
          "name": "stdout",
          "text": [
            "42/42 [==============================] - 3s 78ms/step\n",
            "16/16 [==============================] - 1s 51ms/step\n",
            "132.84913955218832\n",
            "203.898617353242\n",
            "MAE: 0.03522482141852379\n"
          ]
        }
      ]
    }
  ]
}